{
 "cells": [
  {
   "cell_type": "code",
   "execution_count": 1,
   "metadata": {},
   "outputs": [],
   "source": [
    "from pyspark.sql import SparkSession\n",
    "from pyspark.sql.functions import col, udf"
   ]
  },
  {
   "cell_type": "code",
   "execution_count": 4,
   "metadata": {},
   "outputs": [],
   "source": [
    "spark = SparkSession.builder.appName(\"RentalMarketPlace\").getOrCreate()  "
   ]
  },
  {
   "cell_type": "code",
   "execution_count": null,
   "metadata": {},
   "outputs": [],
   "source": [
    "# Initialize SparkSession to interface with Spark\n",
    "# spark = SparkSession.builder.master(\"local\").appName(\"GettingStarted\").getOrCreate()  # Create or retrieve a SparkSession with the specified configurations"
   ]
  },
  {
   "cell_type": "code",
   "execution_count": 5,
   "metadata": {},
   "outputs": [
    {
     "data": {
      "text/html": [
       "\n",
       "            <div>\n",
       "                <p><b>SparkSession - in-memory</b></p>\n",
       "                \n",
       "        <div>\n",
       "            <p><b>SparkContext</b></p>\n",
       "\n",
       "            <p><a href=\"http://AMALITECH-PC-11075:4040\">Spark UI</a></p>\n",
       "\n",
       "            <dl>\n",
       "              <dt>Version</dt>\n",
       "                <dd><code>v3.5.3</code></dd>\n",
       "              <dt>Master</dt>\n",
       "                <dd><code>local</code></dd>\n",
       "              <dt>AppName</dt>\n",
       "                <dd><code>GettingStarted</code></dd>\n",
       "            </dl>\n",
       "        </div>\n",
       "        \n",
       "            </div>\n",
       "        "
      ],
      "text/plain": [
       "<pyspark.sql.session.SparkSession at 0x14cd4bb9550>"
      ]
     },
     "execution_count": 5,
     "metadata": {},
     "output_type": "execute_result"
    }
   ],
   "source": [
    "spark"
   ]
  },
  {
   "cell_type": "code",
   "execution_count": 7,
   "metadata": {},
   "outputs": [],
   "source": [
    "#read the data from the csv file\n",
    "df_attributes = spark.read.csv(\"../data_source/apartment_attributes.csv\", header=True, inferSchema=True)\n",
    "df_apartments = spark.read.csv(\"../data_source/apartments.csv\", header=True, inferSchema=True)\n",
    "df_users = spark.read.csv(\"../data_source/user_viewing.csv\", header=True, inferSchema=True)"
   ]
  },
  {
   "cell_type": "code",
   "execution_count": 8,
   "metadata": {},
   "outputs": [
    {
     "name": "stdout",
     "output_type": "stream",
     "text": [
      "+---+---------+--------------------+--------------------+---------+--------+------+---------+------------+-------------+----------+-----------+--------------------+------------+------------+----------+-----------+\n",
      "| id| category|                body|           amenities|bathrooms|bedrooms|   fee|has_photo|pets_allowed|price_display|price_type|square_feet|             address|    cityname|       state|  latitude|  longitude|\n",
      "+---+---------+--------------------+--------------------+---------+--------+------+---------+------------+-------------+----------+-----------+--------------------+------------+------------+----------+-----------+\n",
      "|  1|     2BHK|Happy product mod...|Balcony, Air Cond...|        1|       1|168.84|     true|       false|     $1588.42|   Monthly|       1463|92525 Holt Turnpi...|    New York|  California| 20.457092|    0.46622|\n",
      "|  2|Penthouse|Technology past m...|Garden, Pet-frien...|        2|       2|202.99|    false|        true|     $3585.32|    Yearly|        722|89610 Chang Lane ...|      Austin|       Texas| 38.182993|-129.769256|\n",
      "|  3|     3BHK|Firm agreement sh...|                 Gym|        2|       1|488.93|    false|       false|     $1961.69|   Monthly|       2208|134 Bryan Island ...|     Chicago|    Illinois| 61.585391| -92.597924|\n",
      "|  4|     1BHK|Next may hear cam...|              Garden|        3|       3| 376.1|     true|       false|     $4845.75|    Yearly|        589|13660 Amanda Isle...| San Antonio|       Texas| -59.01545|   6.296552|\n",
      "|  5|     1BHK|Space necessary e...|        Pet-friendly|        2|       2|465.79|    false|        true|     $2599.65|  One-time|       1590|7915 Laurie Manor...| Los Angeles|  California|-48.009442| -33.172952|\n",
      "|  6|     2BHK|Offer environment...|Air Conditioning,...|        1|       1|244.49|     true|       false|     $3173.35|   Monthly|       1269|839 Alejandro Rap...|     Chicago|       Texas|-15.734868| 114.378874|\n",
      "|  7|     1BHK|Them blood ahead ...|Elevator, Gym, Wi...|        3|       3|375.26|    false|       false|     $3965.02|  One-time|        713|7931 Ralph Green ...| San Antonio|       Texas| 20.490133|   165.0257|\n",
      "|  8|Penthouse|So experience bal...|Wi-Fi, Air Condit...|        3|       1|323.26|    false|       false|     $4437.17|   Monthly|       2057|529 Mccormick Tra...|      Austin|    New York|-70.504472|   7.739492|\n",
      "|  9|     3BHK|Entire charge pre...|Wi-Fi, Air Condit...|        3|       2|392.54|    false|       false|      $3324.9|    Yearly|       1369|66100 Norman Unio...|Philadelphia|Pennsylvania|-54.517385| -73.485962|\n",
      "| 10|     3BHK|Unit condition be...|Garden, Wi-Fi, Pe...|        3|       1|143.99|     true|        true|     $4466.53|    Yearly|       2201|0730 Harrison Val...|     Houston|       Texas| 29.903511|-138.418216|\n",
      "| 11|   Studio|Up enough control...|     Garden, Balcony|        1|       2|183.76|    false|       false|     $1473.32|    Yearly|       2597|942 Stephanie Par...|      Dallas|       Texas| 54.769096|-100.189883|\n",
      "| 12|   Studio|Century his age s...|Parking, Swimming...|        1|       2|244.97|     true|       false|      $1208.1|  One-time|       1436|33484 Cynthia Cli...|      Austin|       Texas|-82.216597|  -0.721565|\n",
      "| 13|     3BHK|Material expect c...|Pet-friendly, Bal...|        3|       1| 54.12|    false|        true|     $4230.53|  One-time|        915|5007 Nathan Views...|    New York|       Texas|  1.036426|  97.142149|\n",
      "| 14|     1BHK|Before discover i...|Pet-friendly, Wi-...|        3|       2|302.66|    false|        true|     $4291.42|    Yearly|       2564|456 Eric Forge As...|Philadelphia|    Illinois| 39.169565| -76.863925|\n",
      "| 15|     1BHK|Mouth there add c...| Wi-Fi, Gym, Balcony|        3|       2| 89.78|     true|       false|     $1133.42|  One-time|        681|81143 Melton Dale...| Los Angeles|Pennsylvania|  21.95064|-103.291122|\n",
      "| 16|     3BHK|Later worry big r...|Garden, Pet-frien...|        2|       1| 80.92|     true|        true|     $3028.37|    Yearly|       1109|50933 Jessica Vil...| Los Angeles|Pennsylvania| -5.917609| 110.457376|\n",
      "| 17|     2BHK|Certainly audienc...|Balcony, Wi-Fi, G...|        3|       1|113.52|     true|       false|      $2134.0|  One-time|       2463|3338 John Plaza S...|     Phoenix|    Illinois| 59.505744| 137.875761|\n",
      "| 18|     2BHK|Hair look pressur...|Parking, Gym, Gar...|        1|       1|407.05|     true|       false|     $2442.29|   Monthly|       2621|037 Rachel Overpa...|    New York|       Texas| -2.097816|  79.079213|\n",
      "| 19|     2BHK|Hit talk particip...|Pet-friendly, Bal...|        1|       1|487.32|     true|        true|     $1411.17|   Monthly|       2732|9326 Ferrell Mano...|     Houston|       Texas|-30.133063|-178.944691|\n",
      "| 20|     2BHK|Individual betwee...|Balcony, Air Cond...|        2|       1|250.27|    false|       false|     $4247.43|  One-time|       1790|062 Emily Pass Ad...| San Antonio|       Texas|-14.855582|-173.605833|\n",
      "+---+---------+--------------------+--------------------+---------+--------+------+---------+------------+-------------+----------+-----------+--------------------+------------+------------+----------+-----------+\n",
      "only showing top 20 rows\n",
      "\n"
     ]
    }
   ],
   "source": [
    "df_attributes.show()"
   ]
  },
  {
   "cell_type": "code",
   "execution_count": 12,
   "metadata": {},
   "outputs": [
    {
     "name": "stdout",
     "output_type": "stream",
     "text": [
      "root\n",
      " |-- id: long (nullable = true)\n",
      " |-- title: string (nullable = true)\n",
      " |-- source: string (nullable = true)\n",
      " |-- price: integer (nullable = true)\n",
      " |-- currency: string (nullable = true)\n",
      " |-- listing_created_on: timestamp (nullable = true)\n",
      " |-- is_active: integer (nullable = true)\n",
      " |-- last_modified_timestamp: timestamp (nullable = true)\n",
      "\n"
     ]
    }
   ],
   "source": [
    "df_apartments.printSchema()"
   ]
  },
  {
   "cell_type": "code",
   "execution_count": 13,
   "metadata": {},
   "outputs": [
    {
     "name": "stdout",
     "output_type": "stream",
     "text": [
      "root\n",
      " |-- user_id: integer (nullable = true)\n",
      " |-- apartment_id: long (nullable = true)\n",
      " |-- viewed_at: timestamp (nullable = true)\n",
      " |-- is_wishlisted: string (nullable = true)\n",
      " |-- call_to_action: string (nullable = true)\n",
      "\n"
     ]
    }
   ],
   "source": [
    "df_users.printSchema()"
   ]
  },
  {
   "cell_type": "code",
   "execution_count": 14,
   "metadata": {},
   "outputs": [
    {
     "name": "stdout",
     "output_type": "stream",
     "text": [
      "root\n",
      " |-- id: long (nullable = true)\n",
      " |-- category: string (nullable = true)\n",
      " |-- body: string (nullable = true)\n",
      " |-- amenities: string (nullable = true)\n",
      " |-- bathrooms: string (nullable = true)\n",
      " |-- bedrooms: string (nullable = true)\n",
      " |-- fee: string (nullable = true)\n",
      " |-- has_photo: string (nullable = true)\n",
      " |-- pets_allowed: string (nullable = true)\n",
      " |-- price_display: string (nullable = true)\n",
      " |-- price_type: string (nullable = true)\n",
      " |-- square_feet: string (nullable = true)\n",
      " |-- address: string (nullable = true)\n",
      " |-- cityname: string (nullable = true)\n",
      " |-- state: string (nullable = true)\n",
      " |-- latitude: string (nullable = true)\n",
      " |-- longitude: string (nullable = true)\n",
      "\n"
     ]
    }
   ],
   "source": [
    "df_attributes.printSchema()"
   ]
  },
  {
   "cell_type": "code",
   "execution_count": 15,
   "metadata": {},
   "outputs": [
    {
     "name": "stdout",
     "output_type": "stream",
     "text": [
      "+-------+-------------------+--------------------+-----------+------------------+--------+-------------------+\n",
      "|summary|                 id|               title|     source|             price|currency|          is_active|\n",
      "+-------+-------------------+--------------------+-----------+------------------+--------+-------------------+\n",
      "|  count|              10000|               10000|      10000|             10000|   10000|              10000|\n",
      "|   mean|  5.6233956528752E9|                NULL|       NULL|         1486.2775|    NULL|             0.8304|\n",
      "| stddev|7.021025204484247E7|                NULL|       NULL|1076.5079675665083|    NULL|0.37529978016580134|\n",
      "|    min|         5508654087|$1,010 / Two BR -...| GoSection8|               200|     USD|                  0|\n",
      "|    max|         5668662559|wood Apartments f...|tenantcloud|             52500|     USD|                  1|\n",
      "+-------+-------------------+--------------------+-----------+------------------+--------+-------------------+\n",
      "\n"
     ]
    }
   ],
   "source": [
    "df_apartments.describe().show()"
   ]
  },
  {
   "cell_type": "code",
   "execution_count": 16,
   "metadata": {},
   "outputs": [
    {
     "name": "stdout",
     "output_type": "stream",
     "text": [
      "+-------+------------------+-------------------+-------------+--------------+\n",
      "|summary|           user_id|       apartment_id|is_wishlisted|call_to_action|\n",
      "+-------+------------------+-------------------+-------------+--------------+\n",
      "|  count|              4999|               4999|         4999|          4999|\n",
      "|   mean|2510.2942588517703|5.624324336230446E9|         NULL|          NULL|\n",
      "| stddev|1420.3478927655854|6.977098255417298E7|         NULL|          NULL|\n",
      "|    min|                 1|         5508654149|            n| contact_agent|\n",
      "|    max|              5000|         5668662559|            y|   shortlisted|\n",
      "+-------+------------------+-------------------+-------------+--------------+\n",
      "\n"
     ]
    }
   ],
   "source": [
    "df_users.describe().show()"
   ]
  },
  {
   "cell_type": "code",
   "execution_count": 17,
   "metadata": {},
   "outputs": [
    {
     "name": "stdout",
     "output_type": "stream",
     "text": [
      "+-------+-------------------+--------------------+--------------------+-----------+--------------------+--------------------+------------------+------------------+------------------+--------------------+------------------+-----------------+------------------+------------------+--------------------+-----------------+------------------+\n",
      "|summary|                 id|            category|                body|  amenities|           bathrooms|            bedrooms|               fee|         has_photo|      pets_allowed|       price_display|        price_type|      square_feet|           address|          cityname|               state|         latitude|         longitude|\n",
      "+-------+-------------------+--------------------+--------------------+-----------+--------------------+--------------------+------------------+------------------+------------------+--------------------+------------------+-----------------+------------------+------------------+--------------------+-----------------+------------------+\n",
      "|  count|              10000|               10000|               10000|      10000|               10000|               10000|                81|              9995|              8283|                9992|              9995|             9992|              9994|              9912|                9920|             9968|              9987|\n",
      "|   mean|  5.6233956528752E9|                NULL|                NULL|       NULL|  1.3783647545115436|   1.744558645707376|               1.7|1.3636363636363635|               1.3|                 1.6|             1.625|945.3561643835617|368.89285714285717|186.80769230769232|  182.03846153846155|38.14461255546594| -93.9620481959274|\n",
      "| stddev|7.021025204484358E7|                NULL|                NULL|       NULL|  0.6152672989808732|  0.9431837053578817|0.8232726023485646| 0.504524979109513|0.4830458915396479|  0.9660917830792958|0.5175491695067657|657.9254570095598| 546.4999183113257|401.76291707730013|  337.72278345047795|25.19863450096959|31.542982240101423|\n",
      "|    min|         5508654087|housing/rent/apar...|! ACT NOW! 1 mon ...|         1-| 1 bathrooms with...| & three beds lux...|            325-$1|             700.\"|          348 - $1| 000 S. F. roofto...|           Balcony|          6 Flags|     Car Wash area|    Ceiling Fan(s)| 100% Smoke-free ...|          6 Flags|           24-hr.\"|\n",
      "|    max|         5668662559|housing/rent/shor...|youll find all th...|Wood Floors|        Parking,Pool|Patio/Deck,Pool,T...|  Pool,Wood Floors|               Yes|               Yes|                 Yes|               Yes|              Yes|               Yes|           Zachary|                 Yes|              Yes|               Yes|\n",
      "+-------+-------------------+--------------------+--------------------+-----------+--------------------+--------------------+------------------+------------------+------------------+--------------------+------------------+-----------------+------------------+------------------+--------------------+-----------------+------------------+\n",
      "\n"
     ]
    }
   ],
   "source": [
    "df_attributes.describe().show()"
   ]
  },
  {
   "cell_type": "code",
   "execution_count": 18,
   "metadata": {},
   "outputs": [],
   "source": [
    "# join df_apartments and df_attributes\n",
    "df = df_apartments.join(df_attributes, on='id', how='inner')"
   ]
  },
  {
   "cell_type": "code",
   "execution_count": 19,
   "metadata": {},
   "outputs": [
    {
     "name": "stdout",
     "output_type": "stream",
     "text": [
      "root\n",
      " |-- id: long (nullable = true)\n",
      " |-- title: string (nullable = true)\n",
      " |-- source: string (nullable = true)\n",
      " |-- price: integer (nullable = true)\n",
      " |-- currency: string (nullable = true)\n",
      " |-- listing_created_on: timestamp (nullable = true)\n",
      " |-- is_active: integer (nullable = true)\n",
      " |-- last_modified_timestamp: timestamp (nullable = true)\n",
      " |-- category: string (nullable = true)\n",
      " |-- body: string (nullable = true)\n",
      " |-- amenities: string (nullable = true)\n",
      " |-- bathrooms: string (nullable = true)\n",
      " |-- bedrooms: string (nullable = true)\n",
      " |-- fee: string (nullable = true)\n",
      " |-- has_photo: string (nullable = true)\n",
      " |-- pets_allowed: string (nullable = true)\n",
      " |-- price_display: string (nullable = true)\n",
      " |-- price_type: string (nullable = true)\n",
      " |-- square_feet: string (nullable = true)\n",
      " |-- address: string (nullable = true)\n",
      " |-- cityname: string (nullable = true)\n",
      " |-- state: string (nullable = true)\n",
      " |-- latitude: string (nullable = true)\n",
      " |-- longitude: string (nullable = true)\n",
      "\n"
     ]
    }
   ],
   "source": [
    "df.printSchema()"
   ]
  },
  {
   "cell_type": "code",
   "execution_count": 20,
   "metadata": {},
   "outputs": [
    {
     "name": "stdout",
     "output_type": "stream",
     "text": [
      "+----------+--------------------+---------+-----+--------+-------------------+---------+-----------------------+--------------------+--------------------+--------------------+---------+--------+----+---------+------------+-------------+----------+-----------+----------------+----------+-----+--------+---------+\n",
      "|        id|               title|   source|price|currency| listing_created_on|is_active|last_modified_timestamp|            category|                body|           amenities|bathrooms|bedrooms| fee|has_photo|pets_allowed|price_display|price_type|square_feet|         address|  cityname|state|latitude|longitude|\n",
      "+----------+--------------------+---------+-----+--------+-------------------+---------+-----------------------+--------------------+--------------------+--------------------+---------+--------+----+---------+------------+-------------+----------+-----------+----------------+----------+-----+--------+---------+\n",
      "|5668626895|Studio apartment ...|RentLingo|  790|     USD|2024-05-16 06:56:13|        1|    2024-05-16 06:56:13|housing/rent/apar...|This unit is loca...|Refrigerator,Stov...|      1.0|     0.0|NULL|Thumbnail|        None|         $790|   Monthly|        101|     123 Main St|Washington|   DC| 38.9057| -76.9861|\n",
      "|5664597177|Studio apartment ...|RentLingo|  425|     USD|2024-05-16 06:35:35|        1|    2024-05-16 06:35:35|housing/rent/apar...|This unit is loca...|Refrigerator,Stov...|      1.0|     1.0|NULL|Thumbnail|        None|         $425|   Monthly|        106|  814 Schutte Rd|Evansville|   IN|  37.968| -87.6621|\n",
      "|5668626833|Studio apartment ...|RentLingo| 1390|     USD|2024-05-18 22:58:20|        1|    2024-05-21 02:47:32|housing/rent/apar...|This unit is loca...|Refrigerator,Stov...|      1.0|     0.0|NULL|Thumbnail|        None|       $1,390|   Monthly|        107|     123 Main St| Arlington|   VA|  38.891| -77.0816|\n",
      "|5659918074|Studio apartment ...|RentLingo|  925|     USD|2024-05-17 16:18:36|        0|    2024-05-17 16:18:36|housing/rent/apar...|This unit is loca...|Refrigerator,Stov...|      1.0|     0.0|NULL|Thumbnail|        None|         $925|   Monthly|        116|1717 12th Avenue|   Seattle|   WA|  47.616|-122.3275|\n",
      "|5668626759|Studio apartment ...|RentLingo|  880|     USD|2024-05-17 08:47:56|        0|    2024-05-19 02:36:48|housing/rent/apar...|This unit is loca...|Refrigerator,Stov...|      1.0|     0.0|NULL|Thumbnail|        None|         $880|   Monthly|        125|     123 Main St| Arlington|   VA| 38.8738| -77.1055|\n",
      "+----------+--------------------+---------+-----+--------+-------------------+---------+-----------------------+--------------------+--------------------+--------------------+---------+--------+----+---------+------------+-------------+----------+-----------+----------------+----------+-----+--------+---------+\n",
      "only showing top 5 rows\n",
      "\n"
     ]
    }
   ],
   "source": [
    "df.show(5)"
   ]
  },
  {
   "cell_type": "code",
   "execution_count": 23,
   "metadata": {},
   "outputs": [
    {
     "name": "stdout",
     "output_type": "stream",
     "text": [
      "+-------+------------------+\n",
      "|summary|               fee|\n",
      "+-------+------------------+\n",
      "|  count|                81|\n",
      "|   mean|               1.7|\n",
      "| stddev|0.8232726023485646|\n",
      "|    min|            325-$1|\n",
      "|    max|  Pool,Wood Floors|\n",
      "+-------+------------------+\n",
      "\n"
     ]
    }
   ],
   "source": [
    "df.describe(\"fee\").show()"
   ]
  },
  {
   "cell_type": "code",
   "execution_count": 24,
   "metadata": {},
   "outputs": [
    {
     "name": "stdout",
     "output_type": "stream",
     "text": [
      "+-------+------------------+\n",
      "|summary|      pets_allowed|\n",
      "+-------+------------------+\n",
      "|  count|              8283|\n",
      "|   mean|               1.3|\n",
      "| stddev|0.4830458915396479|\n",
      "|    min|          348 - $1|\n",
      "|    max|               Yes|\n",
      "+-------+------------------+\n",
      "\n"
     ]
    }
   ],
   "source": [
    "df.describe(\"pets_allowed\").show()"
   ]
  },
  {
   "cell_type": "code",
   "execution_count": 32,
   "metadata": {},
   "outputs": [
    {
     "name": "stdout",
     "output_type": "stream",
     "text": [
      "+----------+---------------------+\n",
      "|      date|average_listing_price|\n",
      "+----------+---------------------+\n",
      "|2024-05-16|   1520.2005952380953|\n",
      "|2024-05-17|   1473.5705049261085|\n",
      "|2024-05-18|   1464.8419811320755|\n",
      "+----------+---------------------+\n",
      "\n"
     ]
    }
   ],
   "source": [
    "from pyspark.sql.functions import to_date, avg\n",
    "\n",
    "avg_listing_price = df.withColumn(\"date\", to_date(\"listing_created_on\")) \\\n",
    "    .groupBy(\"date\") \\\n",
    "    .agg(avg(\"price\").alias(\"average_listing_price\"))\n",
    "\n",
    "avg_listing_price.show()"
   ]
  },
  {
   "cell_type": "code",
   "execution_count": 33,
   "metadata": {},
   "outputs": [
    {
     "name": "stdout",
     "output_type": "stream",
     "text": [
      "+----------+-----------------+--------------+------------------+\n",
      "|      date|occupied_listings|total_listings|    occupancy_rate|\n",
      "+----------+-----------------+--------------+------------------+\n",
      "|2024-05-16|               75|          2789|2.6891358910003587|\n",
      "|2024-05-17|              246|          2672| 9.206586826347305|\n",
      "|2024-05-18|              361|          2843|12.697854379176926|\n",
      "+----------+-----------------+--------------+------------------+\n",
      "\n"
     ]
    }
   ],
   "source": [
    "from pyspark.sql.functions import countDistinct\n",
    "\n",
    "# daily occupied apartments\n",
    "occupied = df_users.withColumn(\"date\", to_date(\"viewed_at\")) \\\n",
    "    .groupBy(\"date\") \\\n",
    "    .agg(countDistinct(\"apartment_id\").alias(\"occupied_listings\"))\n",
    "\n",
    "# daily active listings\n",
    "active_listings = df.withColumn(\"date\", to_date(\"listing_created_on\")) \\\n",
    "    .filter(\"is_active = 1\") \\\n",
    "    .groupBy(\"date\") \\\n",
    "    .agg(countDistinct(\"id\").alias(\"total_listings\"))\n",
    "\n",
    "occupancy_rate = occupied.join(active_listings, \"date\", \"inner\") \\\n",
    "    .withColumn(\"occupancy_rate\", (occupied[\"occupied_listings\"] / active_listings[\"total_listings\"]) * 100)\n",
    "occupancy_rate.show()"
   ]
  },
  {
   "cell_type": "code",
   "execution_count": 34,
   "metadata": {},
   "outputs": [
    {
     "name": "stdout",
     "output_type": "stream",
     "text": [
      "+----------+----------------+----------+\n",
      "|      date|        cityname|view_count|\n",
      "+----------+----------------+----------+\n",
      "|2024-05-16|          Austin|         8|\n",
      "|2024-05-16|     Sioux Falls|         3|\n",
      "|2024-05-16|      Cincinnati|         2|\n",
      "|2024-05-16|          Dallas|         2|\n",
      "|2024-05-16|         Trenton|         2|\n",
      "|2024-05-16|         Madison|         2|\n",
      "|2024-05-16|         Houston|         2|\n",
      "|2024-05-16|        Portland|         2|\n",
      "|2024-05-16|   Lawrenceville|         2|\n",
      "|2024-05-16|           Omaha|         2|\n",
      "|2024-05-16|     Kansas City|         2|\n",
      "|2024-05-16|     Los Angeles|         2|\n",
      "|2024-05-16|          Tucson|         1|\n",
      "|2024-05-16|     East Orange|         1|\n",
      "|2024-05-16|Colorado Springs|         1|\n",
      "|2024-05-16|    Santa Monica|         1|\n",
      "|2024-05-16|     San Antonio|         1|\n",
      "|2024-05-16|          Spring|         1|\n",
      "|2024-05-16|        Stoneham|         1|\n",
      "|2024-05-16|     Winter Park|         1|\n",
      "+----------+----------------+----------+\n",
      "only showing top 20 rows\n",
      "\n"
     ]
    }
   ],
   "source": [
    "from pyspark.sql.functions import count\n",
    "\n",
    "popular_locations = df_users.join(df, df_users.apartment_id == df.id) \\\n",
    "    .withColumn(\"date\", to_date(\"viewed_at\")) \\\n",
    "    .groupBy(\"date\", \"cityname\") \\\n",
    "    .agg(count(\"*\").alias(\"view_count\")) \\\n",
    "    .orderBy(\"date\", \"view_count\", ascending=[True, False])\n",
    "popular_locations.show()"
   ]
  },
  {
   "cell_type": "code",
   "execution_count": 35,
   "metadata": {},
   "outputs": [
    {
     "name": "stdout",
     "output_type": "stream",
     "text": [
      "+----------+------------+-----+-------------+-------+\n",
      "|      date|apartment_id|price|booking_count|revenue|\n",
      "+----------+------------+-----+-------------+-------+\n",
      "|2024-05-16|  5509110411| 3565|            1|   3565|\n",
      "|2024-05-16|  5509047257| 2695|            1|   2695|\n",
      "|2024-05-16|  5508837746| 2315|            1|   2315|\n",
      "|2024-05-16|  5664576894| 2295|            1|   2295|\n",
      "|2024-05-16|  5508978709| 2285|            1|   2285|\n",
      "|2024-05-16|  5509167461| 2200|            1|   2200|\n",
      "|2024-05-16|  5668640444| 2195|            1|   2195|\n",
      "|2024-05-16|  5668611158| 2135|            1|   2135|\n",
      "|2024-05-16|  5668630433| 2035|            1|   2035|\n",
      "|2024-05-16|  5508951401| 1905|            1|   1905|\n",
      "|2024-05-16|  5668613019| 1878|            1|   1878|\n",
      "|2024-05-16|  5642367760| 1800|            1|   1800|\n",
      "|2024-05-16|  5664583681| 1800|            1|   1800|\n",
      "|2024-05-16|  5508955455| 1795|            1|   1795|\n",
      "|2024-05-16|  5668616274| 1650|            1|   1650|\n",
      "|2024-05-16|  5668630385| 1590|            1|   1590|\n",
      "|2024-05-16|  5508816167| 1580|            1|   1580|\n",
      "|2024-05-16|  5668617470| 1575|            1|   1575|\n",
      "|2024-05-16|  5664596595| 1575|            1|   1575|\n",
      "|2024-05-16|  5668633374| 1561|            1|   1561|\n",
      "+----------+------------+-----+-------------+-------+\n",
      "only showing top 20 rows\n",
      "\n"
     ]
    }
   ],
   "source": [
    "top_performing_listings = df_users.join(df, df_users.apartment_id == df.id) \\\n",
    "    .withColumn(\"date\", to_date(\"viewed_at\")) \\\n",
    "    .groupBy(\"date\", \"apartment_id\", \"price\") \\\n",
    "    .agg(count(\"*\").alias(\"booking_count\")) \\\n",
    "    .withColumn(\"revenue\", (col(\"price\") * col(\"booking_count\"))) \\\n",
    "    .orderBy(\"date\", \"revenue\", ascending=[True, False])\n",
    "top_performing_listings.show()"
   ]
  },
  {
   "cell_type": "code",
   "execution_count": 36,
   "metadata": {},
   "outputs": [
    {
     "name": "stdout",
     "output_type": "stream",
     "text": [
      "+----------+-------+--------------+\n",
      "|      date|user_id|total_bookings|\n",
      "+----------+-------+--------------+\n",
      "|2024-05-16|    258|             1|\n",
      "|2024-05-20|   1018|             1|\n",
      "|2024-05-17|   1463|             1|\n",
      "|2024-05-21|   3995|             1|\n",
      "|2024-05-24|   3666|             1|\n",
      "|2024-05-20|   2663|             1|\n",
      "|2024-05-17|   1337|             1|\n",
      "|2024-05-28|   3044|             1|\n",
      "|2024-05-24|    879|             1|\n",
      "|2024-05-20|   1645|             1|\n",
      "|2024-05-19|   4366|             1|\n",
      "|2024-05-21|   4295|             1|\n",
      "|2024-05-26|   1054|             1|\n",
      "|2024-05-22|    879|             1|\n",
      "|2024-05-23|   1662|             1|\n",
      "|2024-05-24|   1150|             1|\n",
      "|2024-05-19|   3682|             1|\n",
      "|2024-05-25|   1236|             1|\n",
      "|2024-05-22|   3524|             1|\n",
      "|2024-05-20|   3376|             1|\n",
      "+----------+-------+--------------+\n",
      "only showing top 20 rows\n",
      "\n"
     ]
    }
   ],
   "source": [
    "user_bookings = df_users.withColumn(\"date\", to_date(\"viewed_at\")) \\\n",
    "    .groupBy(\"date\", \"user_id\") \\\n",
    "    .agg(count(\"*\").alias(\"total_bookings\"))\n",
    "user_bookings.show()"
   ]
  },
  {
   "cell_type": "code",
   "execution_count": 37,
   "metadata": {},
   "outputs": [
    {
     "name": "stdout",
     "output_type": "stream",
     "text": [
      "+----------+------------+-----------+--------------------+\n",
      "|      date|repeat_users|total_users|repeat_customer_rate|\n",
      "+----------+------------+-----------+--------------------+\n",
      "|2024-05-25|          21|        456|   4.605263157894736|\n",
      "|2024-05-19|          23|        441|   5.215419501133787|\n",
      "|2024-05-29|           1|         71|  1.4084507042253522|\n",
      "|2024-05-23|          14|        395|  3.5443037974683547|\n",
      "|2024-05-21|          18|        409|   4.400977995110025|\n",
      "|2024-05-16|           1|         74|  1.3513513513513513|\n",
      "|2024-05-20|          20|        442|   4.524886877828054|\n",
      "|2024-05-26|          19|        447|   4.250559284116331|\n",
      "|2024-05-22|          20|        455|   4.395604395604396|\n",
      "|2024-05-17|           8|        241|   3.319502074688797|\n",
      "|2024-05-24|          13|        408|  3.1862745098039214|\n",
      "|2024-05-27|          17|        374|   4.545454545454546|\n",
      "|2024-05-28|           7|        228|   3.070175438596491|\n",
      "|2024-05-18|          18|        352|   5.113636363636364|\n",
      "+----------+------------+-----------+--------------------+\n",
      "\n"
     ]
    }
   ],
   "source": [
    "from pyspark.sql.functions import count as count_, countDistinct as count_distinct\n",
    "\n",
    "user_repeat_counts = df_users.withColumn(\"date\", to_date(\"viewed_at\")) \\\n",
    "    .groupBy(\"date\", \"user_id\") \\\n",
    "    .agg(count_(\"apartment_id\").alias(\"num_bookings\"))\n",
    "\n",
    "repeat_customers = user_repeat_counts.filter(\"num_bookings > 1\") \\\n",
    "    .groupBy(\"date\") \\\n",
    "    .agg(count_distinct(\"user_id\").alias(\"repeat_users\"))\n",
    "\n",
    "total_users = df_users.withColumn(\"date\", to_date(\"viewed_at\")) \\\n",
    "    .groupBy(\"date\") \\\n",
    "    .agg(count_distinct(\"user_id\").alias(\"total_users\"))\n",
    "\n",
    "repeat_customer_rate = repeat_customers.join(total_users, \"date\") \\\n",
    "    .withColumn(\"repeat_customer_rate\", (col(\"repeat_users\") / col(\"total_users\")) * 100)\n",
    "repeat_customer_rate.show()"
   ]
  }
 ],
 "metadata": {
  "kernelspec": {
   "display_name": "pyspark",
   "language": "python",
   "name": "python3"
  },
  "language_info": {
   "codemirror_mode": {
    "name": "ipython",
    "version": 3
   },
   "file_extension": ".py",
   "mimetype": "text/x-python",
   "name": "python",
   "nbconvert_exporter": "python",
   "pygments_lexer": "ipython3",
   "version": "3.13.0"
  }
 },
 "nbformat": 4,
 "nbformat_minor": 2
}
