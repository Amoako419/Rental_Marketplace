{
 "cells": [
  {
   "cell_type": "code",
   "execution_count": 1,
   "metadata": {},
   "outputs": [],
   "source": [
    "from pyspark.sql import SparkSession\n",
    "from pyspark.sql.functions import col, udf"
   ]
  },
  {
   "cell_type": "code",
   "execution_count": 2,
   "metadata": {},
   "outputs": [],
   "source": [
    "spark = SparkSession.builder.appName(\"RentalMarketPlace\").getOrCreate()  "
   ]
  },
  {
   "cell_type": "code",
   "execution_count": 3,
   "metadata": {},
   "outputs": [
    {
     "data": {
      "text/html": [
       "\n",
       "            <div>\n",
       "                <p><b>SparkSession - in-memory</b></p>\n",
       "                \n",
       "        <div>\n",
       "            <p><b>SparkContext</b></p>\n",
       "\n",
       "            <p><a href=\"http://AMALITECH-PC-11075:4040\">Spark UI</a></p>\n",
       "\n",
       "            <dl>\n",
       "              <dt>Version</dt>\n",
       "                <dd><code>v3.5.3</code></dd>\n",
       "              <dt>Master</dt>\n",
       "                <dd><code>local[*]</code></dd>\n",
       "              <dt>AppName</dt>\n",
       "                <dd><code>RentalMarketPlace</code></dd>\n",
       "            </dl>\n",
       "        </div>\n",
       "        \n",
       "            </div>\n",
       "        "
      ],
      "text/plain": [
       "<pyspark.sql.session.SparkSession at 0x1caff85d550>"
      ]
     },
     "execution_count": 3,
     "metadata": {},
     "output_type": "execute_result"
    }
   ],
   "source": [
    "spark"
   ]
  },
  {
   "cell_type": "code",
   "execution_count": 8,
   "metadata": {},
   "outputs": [],
   "source": [
    "#read the data from the csv file\n",
    "df_attributes = spark.read.csv(\"../data_source/apartment_attributes.csv\", header=True, inferSchema=True)\n",
    "df_apartments = spark.read.csv(\"../data_source/apartments.csv\", header=True, inferSchema=True)\n",
    "df_users = spark.read.csv(\"../data_source/user_viewings.csv\", header=True, inferSchema=True)"
   ]
  },
  {
   "cell_type": "code",
   "execution_count": 6,
   "metadata": {},
   "outputs": [
    {
     "name": "stdout",
     "output_type": "stream",
     "text": [
      "+----------+--------------------+--------------------+--------------------+---------+--------+----+---------+------------+-------------+----------+-----------+--------------------+-------------+-----+--------+---------+\n",
      "|        id|            category|                body|           amenities|bathrooms|bedrooms| fee|has_photo|pets_allowed|price_display|price_type|square_feet|             address|     cityname|state|latitude|longitude|\n",
      "+----------+--------------------+--------------------+--------------------+---------+--------+----+---------+------------+-------------+----------+-----------+--------------------+-------------+-----+--------+---------+\n",
      "|5668626895|housing/rent/apar...|This unit is loca...|Refrigerator,Stov...|      1.0|     0.0|NULL|Thumbnail|        None|         $790|   Monthly|        101|         123 Main St|   Washington|   DC| 38.9057| -76.9861|\n",
      "|5664597177|housing/rent/apar...|This unit is loca...|Refrigerator,Stov...|      1.0|     1.0|NULL|Thumbnail|        None|         $425|   Monthly|        106|      814 Schutte Rd|   Evansville|   IN|  37.968| -87.6621|\n",
      "|5668626833|housing/rent/apar...|This unit is loca...|Refrigerator,Stov...|      1.0|     0.0|NULL|Thumbnail|        None|       $1,390|   Monthly|        107|         123 Main St|    Arlington|   VA|  38.891| -77.0816|\n",
      "|5659918074|housing/rent/apar...|This unit is loca...|Refrigerator,Stov...|      1.0|     0.0|NULL|Thumbnail|        None|         $925|   Monthly|        116|    1717 12th Avenue|      Seattle|   WA|  47.616|-122.3275|\n",
      "|5668626759|housing/rent/apar...|This unit is loca...|Refrigerator,Stov...|      1.0|     0.0|NULL|Thumbnail|        None|         $880|   Monthly|        125|         123 Main St|    Arlington|   VA| 38.8738| -77.1055|\n",
      "|5667891676|housing/rent/apar...|**RARE GEM WITH P...|Dishwasher,Elevat...|      1.0|     0.0|NULL|Thumbnail|        NULL|       $2,475|   Monthly|        130|    350 West 50th St|    Manhattan|   NY| 40.7629| -73.9885|\n",
      "|5668627426|housing/rent/apar...|This unit is loca...|Refrigerator,Stov...|      1.0|     0.0|NULL|Thumbnail|        None|       $1,800|   Monthly|        132|  2432 Penmar Avenue|       Venice|   CA| 33.9932|-118.4609|\n",
      "|5668626687|housing/rent/apar...|This unit is loca...|Refrigerator,Stov...|      1.0|     0.0|NULL|Thumbnail|        None|         $840|   Monthly|        136|         123 Main St|   Washington|   DC| 38.9328| -77.0297|\n",
      "|5668610290|housing/rent/apar...|This unit is loca...|        Refrigerator|      1.0|     0.0|NULL|Thumbnail|        None|       $1,495|   Monthly|        138|         333 Hyde St|San Francisco|   CA| 37.7599|-122.4379|\n",
      "|5668627023|housing/rent/apar...|This unit is loca...|Refrigerator,Stov...|      1.0|     0.0|NULL|Thumbnail|        None|         $890|   Monthly|        141|         123 Main St|   Washington|   DC| 38.9118| -77.0132|\n",
      "|5668627099|housing/rent/apar...|This unit is loca...|Refrigerator,Stov...|      1.0|     0.0|NULL|Thumbnail|        None|         $990|   Monthly|        146|15th St SE Indepe...|   Washington|   DC| 38.9118| -77.0132|\n",
      "|5668626548|housing/rent/apar...|This unit is loca...|Refrigerator,Stov...|      1.0|     0.0|NULL|Thumbnail|        None|         $840|   Monthly|        150|         123 Main St|   Washington|   DC| 38.9118| -77.0132|\n",
      "|5664598162|housing/rent/apar...|This unit is loca...|Refrigerator,Stov...|      1.0|     1.0|NULL|Thumbnail|   Cats,Dogs|       $1,795|   Monthly|        156|      2326 N 6th Ave|       Tucson|   AZ| 32.2264|-110.9438|\n",
      "|5668626900|housing/rent/apar...|This unit is loca...|Refrigerator,Stov...|      1.0|     0.0|NULL|Thumbnail|        None|       $1,090|   Monthly|        178|         123 Main St|   Washington|   DC| 38.9118| -77.0132|\n",
      "|5664571820|housing/rent/apar...|This unit is loca...|        Refrigerator|      1.0|     0.0|NULL|Thumbnail|        None|       $1,695|   Monthly|        190|        57 Taylor St|San Francisco|   CA| 37.7599|-122.4379|\n",
      "|5659276240|housing/rent/apar...|New Bern Studio i...|AC,Basketball,Cab...|      1.0|     1.0|NULL|Thumbnail|   Cats,Dogs|$1,560 Weekly|    Weekly|        200|         123 Main St|     New Bern|   NC| 35.0847| -77.0609|\n",
      "|5654898031|housing/rent/apar...|New Bern Studio i...|AC,Basketball,Cab...|      1.0|     1.0|NULL|Thumbnail|   Cats,Dogs|       $1,560|   Monthly|        200|180 Moonlight Lak...|     New Bern|   NC|  35.096| -77.0272|\n",
      "|5664574876|housing/rent/apar...|This unit is loca...|Refrigerator,Stov...|      1.0|     1.0|NULL|Thumbnail|        None|       $1,000|   Monthly|        200|         123 Main St|       Spring|   TX| 30.0871| -95.4685|\n",
      "|5668633573|housing/rent/apar...|This unit is loca...|Refrigerator,Stov...|      1.0|     1.0|NULL|Thumbnail|        None|         $950|   Monthly|        200|545 Georgia St 71...|      Vallejo|   CA| 38.1172|-122.2313|\n",
      "|5668624220|housing/rent/apar...|This unit is loca...|                Pool|      1.0|     1.0|NULL|Thumbnail|        None|         $625|   Monthly|        200|         123 Main St|     Marietta|   GA| 33.9649| -84.5107|\n",
      "+----------+--------------------+--------------------+--------------------+---------+--------+----+---------+------------+-------------+----------+-----------+--------------------+-------------+-----+--------+---------+\n",
      "only showing top 20 rows\n",
      "\n"
     ]
    }
   ],
   "source": [
    "df_attributes.show()"
   ]
  },
  {
   "cell_type": "code",
   "execution_count": 12,
   "metadata": {},
   "outputs": [
    {
     "name": "stdout",
     "output_type": "stream",
     "text": [
      "root\n",
      " |-- id: long (nullable = true)\n",
      " |-- title: string (nullable = true)\n",
      " |-- source: string (nullable = true)\n",
      " |-- price: integer (nullable = true)\n",
      " |-- currency: string (nullable = true)\n",
      " |-- listing_created_on: timestamp (nullable = true)\n",
      " |-- is_active: integer (nullable = true)\n",
      " |-- last_modified_timestamp: timestamp (nullable = true)\n",
      "\n"
     ]
    }
   ],
   "source": [
    "df_apartments.printSchema()"
   ]
  },
  {
   "cell_type": "code",
   "execution_count": 13,
   "metadata": {},
   "outputs": [
    {
     "name": "stdout",
     "output_type": "stream",
     "text": [
      "root\n",
      " |-- user_id: integer (nullable = true)\n",
      " |-- apartment_id: long (nullable = true)\n",
      " |-- viewed_at: timestamp (nullable = true)\n",
      " |-- is_wishlisted: string (nullable = true)\n",
      " |-- call_to_action: string (nullable = true)\n",
      "\n"
     ]
    }
   ],
   "source": [
    "df_users.printSchema()"
   ]
  },
  {
   "cell_type": "code",
   "execution_count": 14,
   "metadata": {},
   "outputs": [
    {
     "name": "stdout",
     "output_type": "stream",
     "text": [
      "root\n",
      " |-- id: long (nullable = true)\n",
      " |-- category: string (nullable = true)\n",
      " |-- body: string (nullable = true)\n",
      " |-- amenities: string (nullable = true)\n",
      " |-- bathrooms: string (nullable = true)\n",
      " |-- bedrooms: string (nullable = true)\n",
      " |-- fee: string (nullable = true)\n",
      " |-- has_photo: string (nullable = true)\n",
      " |-- pets_allowed: string (nullable = true)\n",
      " |-- price_display: string (nullable = true)\n",
      " |-- price_type: string (nullable = true)\n",
      " |-- square_feet: string (nullable = true)\n",
      " |-- address: string (nullable = true)\n",
      " |-- cityname: string (nullable = true)\n",
      " |-- state: string (nullable = true)\n",
      " |-- latitude: string (nullable = true)\n",
      " |-- longitude: string (nullable = true)\n",
      "\n"
     ]
    }
   ],
   "source": [
    "df_attributes.printSchema()"
   ]
  },
  {
   "cell_type": "code",
   "execution_count": 15,
   "metadata": {},
   "outputs": [
    {
     "name": "stdout",
     "output_type": "stream",
     "text": [
      "+-------+-------------------+--------------------+-----------+------------------+--------+-------------------+\n",
      "|summary|                 id|               title|     source|             price|currency|          is_active|\n",
      "+-------+-------------------+--------------------+-----------+------------------+--------+-------------------+\n",
      "|  count|              10000|               10000|      10000|             10000|   10000|              10000|\n",
      "|   mean|  5.6233956528752E9|                NULL|       NULL|         1486.2775|    NULL|             0.8304|\n",
      "| stddev|7.021025204484247E7|                NULL|       NULL|1076.5079675665083|    NULL|0.37529978016580134|\n",
      "|    min|         5508654087|$1,010 / Two BR -...| GoSection8|               200|     USD|                  0|\n",
      "|    max|         5668662559|wood Apartments f...|tenantcloud|             52500|     USD|                  1|\n",
      "+-------+-------------------+--------------------+-----------+------------------+--------+-------------------+\n",
      "\n"
     ]
    }
   ],
   "source": [
    "df_apartments.describe().show()"
   ]
  },
  {
   "cell_type": "code",
   "execution_count": 16,
   "metadata": {},
   "outputs": [
    {
     "name": "stdout",
     "output_type": "stream",
     "text": [
      "+-------+------------------+-------------------+-------------+--------------+\n",
      "|summary|           user_id|       apartment_id|is_wishlisted|call_to_action|\n",
      "+-------+------------------+-------------------+-------------+--------------+\n",
      "|  count|              4999|               4999|         4999|          4999|\n",
      "|   mean|2510.2942588517703|5.624324336230446E9|         NULL|          NULL|\n",
      "| stddev|1420.3478927655854|6.977098255417298E7|         NULL|          NULL|\n",
      "|    min|                 1|         5508654149|            n| contact_agent|\n",
      "|    max|              5000|         5668662559|            y|   shortlisted|\n",
      "+-------+------------------+-------------------+-------------+--------------+\n",
      "\n"
     ]
    }
   ],
   "source": [
    "df_users.describe().show()"
   ]
  },
  {
   "cell_type": "code",
   "execution_count": 17,
   "metadata": {},
   "outputs": [
    {
     "name": "stdout",
     "output_type": "stream",
     "text": [
      "+-------+-------------------+--------------------+--------------------+-----------+--------------------+--------------------+------------------+------------------+------------------+--------------------+------------------+-----------------+------------------+------------------+--------------------+-----------------+------------------+\n",
      "|summary|                 id|            category|                body|  amenities|           bathrooms|            bedrooms|               fee|         has_photo|      pets_allowed|       price_display|        price_type|      square_feet|           address|          cityname|               state|         latitude|         longitude|\n",
      "+-------+-------------------+--------------------+--------------------+-----------+--------------------+--------------------+------------------+------------------+------------------+--------------------+------------------+-----------------+------------------+------------------+--------------------+-----------------+------------------+\n",
      "|  count|              10000|               10000|               10000|      10000|               10000|               10000|                81|              9995|              8283|                9992|              9995|             9992|              9994|              9912|                9920|             9968|              9987|\n",
      "|   mean|  5.6233956528752E9|                NULL|                NULL|       NULL|  1.3783647545115436|   1.744558645707376|               1.7|1.3636363636363635|               1.3|                 1.6|             1.625|945.3561643835617|368.89285714285717|186.80769230769232|  182.03846153846155|38.14461255546594| -93.9620481959274|\n",
      "| stddev|7.021025204484358E7|                NULL|                NULL|       NULL|  0.6152672989808732|  0.9431837053578817|0.8232726023485646| 0.504524979109513|0.4830458915396479|  0.9660917830792958|0.5175491695067657|657.9254570095598| 546.4999183113257|401.76291707730013|  337.72278345047795|25.19863450096959|31.542982240101423|\n",
      "|    min|         5508654087|housing/rent/apar...|! ACT NOW! 1 mon ...|         1-| 1 bathrooms with...| & three beds lux...|            325-$1|             700.\"|          348 - $1| 000 S. F. roofto...|           Balcony|          6 Flags|     Car Wash area|    Ceiling Fan(s)| 100% Smoke-free ...|          6 Flags|           24-hr.\"|\n",
      "|    max|         5668662559|housing/rent/shor...|youll find all th...|Wood Floors|        Parking,Pool|Patio/Deck,Pool,T...|  Pool,Wood Floors|               Yes|               Yes|                 Yes|               Yes|              Yes|               Yes|           Zachary|                 Yes|              Yes|               Yes|\n",
      "+-------+-------------------+--------------------+--------------------+-----------+--------------------+--------------------+------------------+------------------+------------------+--------------------+------------------+-----------------+------------------+------------------+--------------------+-----------------+------------------+\n",
      "\n"
     ]
    }
   ],
   "source": [
    "df_attributes.describe().show()"
   ]
  },
  {
   "cell_type": "code",
   "execution_count": 18,
   "metadata": {},
   "outputs": [],
   "source": [
    "# join df_apartments and df_attributes\n",
    "df = df_apartments.join(df_attributes, on='id', how='inner')"
   ]
  },
  {
   "cell_type": "code",
   "execution_count": 19,
   "metadata": {},
   "outputs": [
    {
     "name": "stdout",
     "output_type": "stream",
     "text": [
      "root\n",
      " |-- id: long (nullable = true)\n",
      " |-- title: string (nullable = true)\n",
      " |-- source: string (nullable = true)\n",
      " |-- price: integer (nullable = true)\n",
      " |-- currency: string (nullable = true)\n",
      " |-- listing_created_on: timestamp (nullable = true)\n",
      " |-- is_active: integer (nullable = true)\n",
      " |-- last_modified_timestamp: timestamp (nullable = true)\n",
      " |-- category: string (nullable = true)\n",
      " |-- body: string (nullable = true)\n",
      " |-- amenities: string (nullable = true)\n",
      " |-- bathrooms: string (nullable = true)\n",
      " |-- bedrooms: string (nullable = true)\n",
      " |-- fee: string (nullable = true)\n",
      " |-- has_photo: string (nullable = true)\n",
      " |-- pets_allowed: string (nullable = true)\n",
      " |-- price_display: string (nullable = true)\n",
      " |-- price_type: string (nullable = true)\n",
      " |-- square_feet: string (nullable = true)\n",
      " |-- address: string (nullable = true)\n",
      " |-- cityname: string (nullable = true)\n",
      " |-- state: string (nullable = true)\n",
      " |-- latitude: string (nullable = true)\n",
      " |-- longitude: string (nullable = true)\n",
      "\n"
     ]
    }
   ],
   "source": [
    "df.printSchema()"
   ]
  },
  {
   "cell_type": "code",
   "execution_count": 20,
   "metadata": {},
   "outputs": [
    {
     "name": "stdout",
     "output_type": "stream",
     "text": [
      "+----------+--------------------+---------+-----+--------+-------------------+---------+-----------------------+--------------------+--------------------+--------------------+---------+--------+----+---------+------------+-------------+----------+-----------+----------------+----------+-----+--------+---------+\n",
      "|        id|               title|   source|price|currency| listing_created_on|is_active|last_modified_timestamp|            category|                body|           amenities|bathrooms|bedrooms| fee|has_photo|pets_allowed|price_display|price_type|square_feet|         address|  cityname|state|latitude|longitude|\n",
      "+----------+--------------------+---------+-----+--------+-------------------+---------+-----------------------+--------------------+--------------------+--------------------+---------+--------+----+---------+------------+-------------+----------+-----------+----------------+----------+-----+--------+---------+\n",
      "|5668626895|Studio apartment ...|RentLingo|  790|     USD|2024-05-16 06:56:13|        1|    2024-05-16 06:56:13|housing/rent/apar...|This unit is loca...|Refrigerator,Stov...|      1.0|     0.0|NULL|Thumbnail|        None|         $790|   Monthly|        101|     123 Main St|Washington|   DC| 38.9057| -76.9861|\n",
      "|5664597177|Studio apartment ...|RentLingo|  425|     USD|2024-05-16 06:35:35|        1|    2024-05-16 06:35:35|housing/rent/apar...|This unit is loca...|Refrigerator,Stov...|      1.0|     1.0|NULL|Thumbnail|        None|         $425|   Monthly|        106|  814 Schutte Rd|Evansville|   IN|  37.968| -87.6621|\n",
      "|5668626833|Studio apartment ...|RentLingo| 1390|     USD|2024-05-18 22:58:20|        1|    2024-05-21 02:47:32|housing/rent/apar...|This unit is loca...|Refrigerator,Stov...|      1.0|     0.0|NULL|Thumbnail|        None|       $1,390|   Monthly|        107|     123 Main St| Arlington|   VA|  38.891| -77.0816|\n",
      "|5659918074|Studio apartment ...|RentLingo|  925|     USD|2024-05-17 16:18:36|        0|    2024-05-17 16:18:36|housing/rent/apar...|This unit is loca...|Refrigerator,Stov...|      1.0|     0.0|NULL|Thumbnail|        None|         $925|   Monthly|        116|1717 12th Avenue|   Seattle|   WA|  47.616|-122.3275|\n",
      "|5668626759|Studio apartment ...|RentLingo|  880|     USD|2024-05-17 08:47:56|        0|    2024-05-19 02:36:48|housing/rent/apar...|This unit is loca...|Refrigerator,Stov...|      1.0|     0.0|NULL|Thumbnail|        None|         $880|   Monthly|        125|     123 Main St| Arlington|   VA| 38.8738| -77.1055|\n",
      "+----------+--------------------+---------+-----+--------+-------------------+---------+-----------------------+--------------------+--------------------+--------------------+---------+--------+----+---------+------------+-------------+----------+-----------+----------------+----------+-----+--------+---------+\n",
      "only showing top 5 rows\n",
      "\n"
     ]
    }
   ],
   "source": [
    "df.show(5)"
   ]
  },
  {
   "cell_type": "code",
   "execution_count": 23,
   "metadata": {},
   "outputs": [
    {
     "name": "stdout",
     "output_type": "stream",
     "text": [
      "+-------+------------------+\n",
      "|summary|               fee|\n",
      "+-------+------------------+\n",
      "|  count|                81|\n",
      "|   mean|               1.7|\n",
      "| stddev|0.8232726023485646|\n",
      "|    min|            325-$1|\n",
      "|    max|  Pool,Wood Floors|\n",
      "+-------+------------------+\n",
      "\n"
     ]
    }
   ],
   "source": [
    "df.describe(\"fee\").show()"
   ]
  },
  {
   "cell_type": "code",
   "execution_count": 24,
   "metadata": {},
   "outputs": [
    {
     "name": "stdout",
     "output_type": "stream",
     "text": [
      "+-------+------------------+\n",
      "|summary|      pets_allowed|\n",
      "+-------+------------------+\n",
      "|  count|              8283|\n",
      "|   mean|               1.3|\n",
      "| stddev|0.4830458915396479|\n",
      "|    min|          348 - $1|\n",
      "|    max|               Yes|\n",
      "+-------+------------------+\n",
      "\n"
     ]
    }
   ],
   "source": [
    "df.describe(\"pets_allowed\").show()"
   ]
  },
  {
   "cell_type": "code",
   "execution_count": 32,
   "metadata": {},
   "outputs": [
    {
     "name": "stdout",
     "output_type": "stream",
     "text": [
      "+----------+---------------------+\n",
      "|      date|average_listing_price|\n",
      "+----------+---------------------+\n",
      "|2024-05-16|   1520.2005952380953|\n",
      "|2024-05-17|   1473.5705049261085|\n",
      "|2024-05-18|   1464.8419811320755|\n",
      "+----------+---------------------+\n",
      "\n"
     ]
    }
   ],
   "source": [
    "from pyspark.sql.functions import to_date, avg\n",
    "\n",
    "avg_listing_price = df.withColumn(\"date\", to_date(\"listing_created_on\")) \\\n",
    "    .groupBy(\"date\") \\\n",
    "    .agg(avg(\"price\").alias(\"average_listing_price\"))\n",
    "\n",
    "avg_listing_price.show()"
   ]
  },
  {
   "cell_type": "code",
   "execution_count": 33,
   "metadata": {},
   "outputs": [
    {
     "name": "stdout",
     "output_type": "stream",
     "text": [
      "+----------+-----------------+--------------+------------------+\n",
      "|      date|occupied_listings|total_listings|    occupancy_rate|\n",
      "+----------+-----------------+--------------+------------------+\n",
      "|2024-05-16|               75|          2789|2.6891358910003587|\n",
      "|2024-05-17|              246|          2672| 9.206586826347305|\n",
      "|2024-05-18|              361|          2843|12.697854379176926|\n",
      "+----------+-----------------+--------------+------------------+\n",
      "\n"
     ]
    }
   ],
   "source": [
    "from pyspark.sql.functions import countDistinct\n",
    "\n",
    "# daily occupied apartments\n",
    "occupied = df_users.withColumn(\"date\", to_date(\"viewed_at\")) \\\n",
    "    .groupBy(\"date\") \\\n",
    "    .agg(countDistinct(\"apartment_id\").alias(\"occupied_listings\"))\n",
    "\n",
    "# daily active listings\n",
    "active_listings = df.withColumn(\"date\", to_date(\"listing_created_on\")) \\\n",
    "    .filter(\"is_active = 1\") \\\n",
    "    .groupBy(\"date\") \\\n",
    "    .agg(countDistinct(\"id\").alias(\"total_listings\"))\n",
    "\n",
    "occupancy_rate = occupied.join(active_listings, \"date\", \"inner\") \\\n",
    "    .withColumn(\"occupancy_rate\", (occupied[\"occupied_listings\"] / active_listings[\"total_listings\"]) * 100)\n",
    "occupancy_rate.show()"
   ]
  },
  {
   "cell_type": "code",
   "execution_count": 34,
   "metadata": {},
   "outputs": [
    {
     "name": "stdout",
     "output_type": "stream",
     "text": [
      "+----------+----------------+----------+\n",
      "|      date|        cityname|view_count|\n",
      "+----------+----------------+----------+\n",
      "|2024-05-16|          Austin|         8|\n",
      "|2024-05-16|     Sioux Falls|         3|\n",
      "|2024-05-16|      Cincinnati|         2|\n",
      "|2024-05-16|          Dallas|         2|\n",
      "|2024-05-16|         Trenton|         2|\n",
      "|2024-05-16|         Madison|         2|\n",
      "|2024-05-16|         Houston|         2|\n",
      "|2024-05-16|        Portland|         2|\n",
      "|2024-05-16|   Lawrenceville|         2|\n",
      "|2024-05-16|           Omaha|         2|\n",
      "|2024-05-16|     Kansas City|         2|\n",
      "|2024-05-16|     Los Angeles|         2|\n",
      "|2024-05-16|          Tucson|         1|\n",
      "|2024-05-16|     East Orange|         1|\n",
      "|2024-05-16|Colorado Springs|         1|\n",
      "|2024-05-16|    Santa Monica|         1|\n",
      "|2024-05-16|     San Antonio|         1|\n",
      "|2024-05-16|          Spring|         1|\n",
      "|2024-05-16|        Stoneham|         1|\n",
      "|2024-05-16|     Winter Park|         1|\n",
      "+----------+----------------+----------+\n",
      "only showing top 20 rows\n",
      "\n"
     ]
    }
   ],
   "source": [
    "from pyspark.sql.functions import count\n",
    "\n",
    "popular_locations = df_users.join(df, df_users.apartment_id == df.id) \\\n",
    "    .withColumn(\"date\", to_date(\"viewed_at\")) \\\n",
    "    .groupBy(\"date\", \"cityname\") \\\n",
    "    .agg(count(\"*\").alias(\"view_count\")) \\\n",
    "    .orderBy(\"date\", \"view_count\", ascending=[True, False])\n",
    "popular_locations.show()"
   ]
  },
  {
   "cell_type": "code",
   "execution_count": 35,
   "metadata": {},
   "outputs": [
    {
     "name": "stdout",
     "output_type": "stream",
     "text": [
      "+----------+------------+-----+-------------+-------+\n",
      "|      date|apartment_id|price|booking_count|revenue|\n",
      "+----------+------------+-----+-------------+-------+\n",
      "|2024-05-16|  5509110411| 3565|            1|   3565|\n",
      "|2024-05-16|  5509047257| 2695|            1|   2695|\n",
      "|2024-05-16|  5508837746| 2315|            1|   2315|\n",
      "|2024-05-16|  5664576894| 2295|            1|   2295|\n",
      "|2024-05-16|  5508978709| 2285|            1|   2285|\n",
      "|2024-05-16|  5509167461| 2200|            1|   2200|\n",
      "|2024-05-16|  5668640444| 2195|            1|   2195|\n",
      "|2024-05-16|  5668611158| 2135|            1|   2135|\n",
      "|2024-05-16|  5668630433| 2035|            1|   2035|\n",
      "|2024-05-16|  5508951401| 1905|            1|   1905|\n",
      "|2024-05-16|  5668613019| 1878|            1|   1878|\n",
      "|2024-05-16|  5642367760| 1800|            1|   1800|\n",
      "|2024-05-16|  5664583681| 1800|            1|   1800|\n",
      "|2024-05-16|  5508955455| 1795|            1|   1795|\n",
      "|2024-05-16|  5668616274| 1650|            1|   1650|\n",
      "|2024-05-16|  5668630385| 1590|            1|   1590|\n",
      "|2024-05-16|  5508816167| 1580|            1|   1580|\n",
      "|2024-05-16|  5668617470| 1575|            1|   1575|\n",
      "|2024-05-16|  5664596595| 1575|            1|   1575|\n",
      "|2024-05-16|  5668633374| 1561|            1|   1561|\n",
      "+----------+------------+-----+-------------+-------+\n",
      "only showing top 20 rows\n",
      "\n"
     ]
    }
   ],
   "source": [
    "top_performing_listings = df_users.join(df, df_users.apartment_id == df.id) \\\n",
    "    .withColumn(\"date\", to_date(\"viewed_at\")) \\\n",
    "    .groupBy(\"date\", \"apartment_id\", \"price\") \\\n",
    "    .agg(count(\"*\").alias(\"booking_count\")) \\\n",
    "    .withColumn(\"revenue\", (col(\"price\") * col(\"booking_count\"))) \\\n",
    "    .orderBy(\"date\", \"revenue\", ascending=[True, False])\n",
    "top_performing_listings.show()"
   ]
  },
  {
   "cell_type": "code",
   "execution_count": 36,
   "metadata": {},
   "outputs": [
    {
     "name": "stdout",
     "output_type": "stream",
     "text": [
      "+----------+-------+--------------+\n",
      "|      date|user_id|total_bookings|\n",
      "+----------+-------+--------------+\n",
      "|2024-05-16|    258|             1|\n",
      "|2024-05-20|   1018|             1|\n",
      "|2024-05-17|   1463|             1|\n",
      "|2024-05-21|   3995|             1|\n",
      "|2024-05-24|   3666|             1|\n",
      "|2024-05-20|   2663|             1|\n",
      "|2024-05-17|   1337|             1|\n",
      "|2024-05-28|   3044|             1|\n",
      "|2024-05-24|    879|             1|\n",
      "|2024-05-20|   1645|             1|\n",
      "|2024-05-19|   4366|             1|\n",
      "|2024-05-21|   4295|             1|\n",
      "|2024-05-26|   1054|             1|\n",
      "|2024-05-22|    879|             1|\n",
      "|2024-05-23|   1662|             1|\n",
      "|2024-05-24|   1150|             1|\n",
      "|2024-05-19|   3682|             1|\n",
      "|2024-05-25|   1236|             1|\n",
      "|2024-05-22|   3524|             1|\n",
      "|2024-05-20|   3376|             1|\n",
      "+----------+-------+--------------+\n",
      "only showing top 20 rows\n",
      "\n"
     ]
    }
   ],
   "source": [
    "user_bookings = df_users.withColumn(\"date\", to_date(\"viewed_at\")) \\\n",
    "    .groupBy(\"date\", \"user_id\") \\\n",
    "    .agg(count(\"*\").alias(\"total_bookings\"))\n",
    "user_bookings.show()"
   ]
  },
  {
   "cell_type": "code",
   "execution_count": 37,
   "metadata": {},
   "outputs": [
    {
     "name": "stdout",
     "output_type": "stream",
     "text": [
      "+----------+------------+-----------+--------------------+\n",
      "|      date|repeat_users|total_users|repeat_customer_rate|\n",
      "+----------+------------+-----------+--------------------+\n",
      "|2024-05-25|          21|        456|   4.605263157894736|\n",
      "|2024-05-19|          23|        441|   5.215419501133787|\n",
      "|2024-05-29|           1|         71|  1.4084507042253522|\n",
      "|2024-05-23|          14|        395|  3.5443037974683547|\n",
      "|2024-05-21|          18|        409|   4.400977995110025|\n",
      "|2024-05-16|           1|         74|  1.3513513513513513|\n",
      "|2024-05-20|          20|        442|   4.524886877828054|\n",
      "|2024-05-26|          19|        447|   4.250559284116331|\n",
      "|2024-05-22|          20|        455|   4.395604395604396|\n",
      "|2024-05-17|           8|        241|   3.319502074688797|\n",
      "|2024-05-24|          13|        408|  3.1862745098039214|\n",
      "|2024-05-27|          17|        374|   4.545454545454546|\n",
      "|2024-05-28|           7|        228|   3.070175438596491|\n",
      "|2024-05-18|          18|        352|   5.113636363636364|\n",
      "+----------+------------+-----------+--------------------+\n",
      "\n"
     ]
    }
   ],
   "source": [
    "from pyspark.sql.functions import count as count_, countDistinct as count_distinct\n",
    "\n",
    "user_repeat_counts = df_users.withColumn(\"date\", to_date(\"viewed_at\")) \\\n",
    "    .groupBy(\"date\", \"user_id\") \\\n",
    "    .agg(count_(\"apartment_id\").alias(\"num_bookings\"))\n",
    "\n",
    "repeat_customers = user_repeat_counts.filter(\"num_bookings > 1\") \\\n",
    "    .groupBy(\"date\") \\\n",
    "    .agg(count_distinct(\"user_id\").alias(\"repeat_users\"))\n",
    "\n",
    "total_users = df_users.withColumn(\"date\", to_date(\"viewed_at\")) \\\n",
    "    .groupBy(\"date\") \\\n",
    "    .agg(count_distinct(\"user_id\").alias(\"total_users\"))\n",
    "\n",
    "repeat_customer_rate = repeat_customers.join(total_users, \"date\") \\\n",
    "    .withColumn(\"repeat_customer_rate\", (col(\"repeat_users\") / col(\"total_users\")) * 100)\n",
    "repeat_customer_rate.show()"
   ]
  }
 ],
 "metadata": {
  "kernelspec": {
   "display_name": "pyspark",
   "language": "python",
   "name": "python3"
  },
  "language_info": {
   "codemirror_mode": {
    "name": "ipython",
    "version": 3
   },
   "file_extension": ".py",
   "mimetype": "text/x-python",
   "name": "python",
   "nbconvert_exporter": "python",
   "pygments_lexer": "ipython3",
   "version": "3.13.0"
  }
 },
 "nbformat": 4,
 "nbformat_minor": 2
}
