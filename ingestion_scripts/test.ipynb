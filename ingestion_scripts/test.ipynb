{
 "cells": [
  {
   "cell_type": "code",
   "execution_count": 1,
   "metadata": {},
   "outputs": [],
   "source": [
    "import pandas as pd"
   ]
  },
  {
   "cell_type": "code",
   "execution_count": 2,
   "metadata": {},
   "outputs": [
    {
     "data": {
      "text/html": [
       "<div>\n",
       "<style scoped>\n",
       "    .dataframe tbody tr th:only-of-type {\n",
       "        vertical-align: middle;\n",
       "    }\n",
       "\n",
       "    .dataframe tbody tr th {\n",
       "        vertical-align: top;\n",
       "    }\n",
       "\n",
       "    .dataframe thead th {\n",
       "        text-align: right;\n",
       "    }\n",
       "</style>\n",
       "<table border=\"1\" class=\"dataframe\">\n",
       "  <thead>\n",
       "    <tr style=\"text-align: right;\">\n",
       "      <th></th>\n",
       "      <th>id</th>\n",
       "      <th>title</th>\n",
       "      <th>source</th>\n",
       "      <th>price</th>\n",
       "      <th>currency</th>\n",
       "      <th>listing_created_on</th>\n",
       "      <th>is_active</th>\n",
       "      <th>last_modified_timestamp</th>\n",
       "    </tr>\n",
       "  </thead>\n",
       "  <tbody>\n",
       "    <tr>\n",
       "      <th>0</th>\n",
       "      <td>5668626895</td>\n",
       "      <td>Studio apartment 2nd St NE, Uhland Terrace NE,...</td>\n",
       "      <td>RentLingo</td>\n",
       "      <td>790</td>\n",
       "      <td>USD</td>\n",
       "      <td>2024-05-16 06:56:13</td>\n",
       "      <td>1</td>\n",
       "      <td>2024-05-16 06:56:13</td>\n",
       "    </tr>\n",
       "    <tr>\n",
       "      <th>1</th>\n",
       "      <td>5664597177</td>\n",
       "      <td>Studio apartment 814 Schutte Road</td>\n",
       "      <td>RentLingo</td>\n",
       "      <td>425</td>\n",
       "      <td>USD</td>\n",
       "      <td>2024-05-16 06:35:35</td>\n",
       "      <td>1</td>\n",
       "      <td>2024-05-16 06:35:35</td>\n",
       "    </tr>\n",
       "    <tr>\n",
       "      <th>2</th>\n",
       "      <td>5668626833</td>\n",
       "      <td>Studio apartment N Scott St, 14th St N, Arling...</td>\n",
       "      <td>RentLingo</td>\n",
       "      <td>1390</td>\n",
       "      <td>USD</td>\n",
       "      <td>2024-05-18 22:58:20</td>\n",
       "      <td>1</td>\n",
       "      <td>2024-05-21 02:47:32</td>\n",
       "    </tr>\n",
       "    <tr>\n",
       "      <th>3</th>\n",
       "      <td>5659918074</td>\n",
       "      <td>Studio apartment 1717 12th Ave</td>\n",
       "      <td>RentLingo</td>\n",
       "      <td>925</td>\n",
       "      <td>USD</td>\n",
       "      <td>2024-05-17 16:18:36</td>\n",
       "      <td>0</td>\n",
       "      <td>2024-05-17 16:18:36</td>\n",
       "    </tr>\n",
       "    <tr>\n",
       "      <th>4</th>\n",
       "      <td>5668626759</td>\n",
       "      <td>Studio apartment Washington Blvd, N Cleveland ...</td>\n",
       "      <td>RentLingo</td>\n",
       "      <td>880</td>\n",
       "      <td>USD</td>\n",
       "      <td>2024-05-17 08:47:56</td>\n",
       "      <td>0</td>\n",
       "      <td>2024-05-19 02:36:48</td>\n",
       "    </tr>\n",
       "  </tbody>\n",
       "</table>\n",
       "</div>"
      ],
      "text/plain": [
       "           id                                              title     source  \\\n",
       "0  5668626895  Studio apartment 2nd St NE, Uhland Terrace NE,...  RentLingo   \n",
       "1  5664597177                  Studio apartment 814 Schutte Road  RentLingo   \n",
       "2  5668626833  Studio apartment N Scott St, 14th St N, Arling...  RentLingo   \n",
       "3  5659918074                     Studio apartment 1717 12th Ave  RentLingo   \n",
       "4  5668626759  Studio apartment Washington Blvd, N Cleveland ...  RentLingo   \n",
       "\n",
       "   price currency   listing_created_on  is_active last_modified_timestamp  \n",
       "0    790      USD  2024-05-16 06:56:13          1     2024-05-16 06:56:13  \n",
       "1    425      USD  2024-05-16 06:35:35          1     2024-05-16 06:35:35  \n",
       "2   1390      USD  2024-05-18 22:58:20          1     2024-05-21 02:47:32  \n",
       "3    925      USD  2024-05-17 16:18:36          0     2024-05-17 16:18:36  \n",
       "4    880      USD  2024-05-17 08:47:56          0     2024-05-19 02:36:48  "
      ]
     },
     "execution_count": 2,
     "metadata": {},
     "output_type": "execute_result"
    }
   ],
   "source": [
    "df = pd.read_csv('../data_source/apartments.csv')\n",
    "df.head()"
   ]
  },
  {
   "cell_type": "code",
   "execution_count": null,
   "metadata": {},
   "outputs": [],
   "source": []
  },
  {
   "cell_type": "code",
   "execution_count": null,
   "metadata": {},
   "outputs": [],
   "source": []
  },
  {
   "cell_type": "code",
   "execution_count": null,
   "metadata": {},
   "outputs": [],
   "source": []
  }
 ],
 "metadata": {
  "kernelspec": {
   "display_name": "base",
   "language": "python",
   "name": "python3"
  },
  "language_info": {
   "codemirror_mode": {
    "name": "ipython",
    "version": 3
   },
   "file_extension": ".py",
   "mimetype": "text/x-python",
   "name": "python",
   "nbconvert_exporter": "python",
   "pygments_lexer": "ipython3",
   "version": "3.12.4"
  }
 },
 "nbformat": 4,
 "nbformat_minor": 2
}
